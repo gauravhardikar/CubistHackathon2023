{
  "nbformat": 4,
  "nbformat_minor": 0,
  "metadata": {
    "colab": {
      "provenance": []
    },
    "kernelspec": {
      "name": "python3",
      "display_name": "Python 3"
    },
    "language_info": {
      "name": "python"
    }
  },
  "cells": [
    {
      "cell_type": "code",
      "execution_count": null,
      "metadata": {
        "id": "OKBjjNILEvmi"
      },
      "outputs": [],
      "source": [
        "!pip install sodapy # To work with data\n",
        "!pip install folium # To plot data"
      ]
    },
    {
      "cell_type": "code",
      "execution_count": null,
      "metadata": {
        "id": "srBS4bV8E377"
      },
      "outputs": [],
      "source": [
        "from pandas.core import api\n",
        "import datetime\n",
        "from sodapy import Socrata\n",
        "import pandas as pd\n",
        "import folium\n",
        "import numpy as np\n",
        "import seaborn as sns"
      ]
    },
    {
      "cell_type": "code",
      "execution_count": null,
      "metadata": {
        "id": "j4PsOyQ_GW4D"
      },
      "outputs": [],
      "source": [
        "client = Socrata(\"data.cityofnewyork.us\", None)"
      ]
    },
    {
      "cell_type": "code",
      "execution_count": null,
      "metadata": {
        "id": "Nilgf5tNEz8t"
      },
      "outputs": [],
      "source": [
        "# Define the current date and one year ago\n",
        "today = datetime.date.today()\n",
        "one_year_ago = today - datetime.timedelta(days=365)\n",
        "\n",
        "# Set the query parameters\n",
        "query_params = (\n",
        "    f\"borough='MANHATTAN' AND \"\n",
        "    f\"(number_of_persons_injured>0 OR number_of_persons_killed>0) AND \"\n",
        "    f\"crash_date>='{one_year_ago}'\"\n",
        ")\n",
        "\n",
        "# Query the data\n",
        "results = client.get(\"h9gi-nx95\", where=query_params, limit=10000)\n",
        "\n",
        "df = pd.DataFrame.from_records(results)\n",
        "# Infer data types\n",
        "df['latitude'] = df['latitude'].astype(float)\n",
        "df['longitude'] = df['longitude'].astype(float)"
      ]
    },
    {
      "cell_type": "code",
      "execution_count": null,
      "metadata": {
        "id": "ZNtCD75ePVYz"
      },
      "outputs": [],
      "source": [
        "df = df.dropna(subset=[\"latitude\", \"longitude\"])\n",
        "df = df[(df['latitude'] > 40.494101) & (df['latitude'] < 40.871775)]"
      ]
    },
    {
      "cell_type": "code",
      "execution_count": null,
      "metadata": {
        "id": "6gvg85l7I432"
      },
      "outputs": [],
      "source": [
        "query_params = \"factype='AMBULANCE STATION' AND boro='MANHATTAN'\"\n",
        "\n",
        "# Query the data\n",
        "ambulance_stations = client.get(\"ji82-xba5\", where=query_params)\n",
        "\n",
        "# Convert the results into a DataFrame\n",
        "ambulance_stations_df = pd.DataFrame.from_records(ambulance_stations)\n",
        "ambulance_stations_df['latitude'] = ambulance_stations_df['latitude'].astype(float)\n",
        "ambulance_stations_df['longitude'] = ambulance_stations_df['longitude'].astype(float)"
      ]
    },
    {
      "cell_type": "code",
      "execution_count": null,
      "metadata": {
        "id": "WzUQ5lQgNhLu"
      },
      "outputs": [],
      "source": [
        "\n",
        "# Set the query parameters as a string\n",
        "query_params = \"factype='HOSPITAL' AND boro='MANHATTAN'\"\n",
        "\n",
        "# Query the data\n",
        "hospitals = client.get(\"ji82-xba5\", where=query_params)\n",
        "\n",
        "# Convert the results into a DataFrame\n",
        "hospitals_df = pd.DataFrame.from_records(hospitals)\n",
        "\n",
        "hospitals_df['latitude'] = hospitals_df['latitude'].astype(float)\n",
        "hospitals_df['longitude'] = hospitals_df['longitude'].astype(float)\n"
      ]
    },
    {
      "cell_type": "code",
      "execution_count": null,
      "metadata": {
        "id": "jHEBLC2MOa0L"
      },
      "outputs": [],
      "source": [
        "\n",
        "# Function to create a popup with details for each accident\n",
        "def create_accident_popup(row):\n",
        "    return folium.Popup(\n",
        "        f\"Date: {row['crash_date']}<br>\"\n",
        "        f\"Time: {row['crash_time']}<br>\"\n",
        "        f\"Injured: {row['number_of_persons_injured']}<br>\"\n",
        "        f\"Killed: {row['number_of_persons_killed']}<br>\"\n",
        "    )\n",
        "\n",
        "# Function to create a popup with details for each ambulance station\n",
        "def create_ambulance_station_popup(row):\n",
        "    return folium.Popup(\n",
        "        f\"Name: {row['facname']}<br>\"\n",
        "    )\n",
        "\n",
        "# Function to create a popup with details for each hospital\n",
        "def create_hospital_popup(row):\n",
        "    return folium.Popup(\n",
        "        f\"Name: {row['facname']}<br>\"\n",
        "    )\n"
      ]
    },
    {
      "cell_type": "code",
      "execution_count": null,
      "metadata": {
        "id": "h8jud9nZQajG"
      },
      "outputs": [],
      "source": [
        "\n",
        "\n",
        "# Create a map centered on Manhattan\n",
        "nyc_map = folium.Map(location=[40.7831, -73.9712], zoom_start=12)\n",
        "\n",
        "# Create feature groups for accidents, ambulance stations, and hospitals\n",
        "accidents_group = folium.FeatureGroup(name=\"Accidents\")\n",
        "ambulance_stations_group = folium.FeatureGroup(name=\"Ambulance Stations\")\n",
        "hospitals_group = folium.FeatureGroup(name=\"Hospitals\")\n",
        "\n",
        "# Add a circle for each accident to the accidents feature group\n",
        "for index, row in df.iterrows():\n",
        "    folium.CircleMarker(\n",
        "        location=[row[\"latitude\"], row[\"longitude\"]],\n",
        "        radius=4,\n",
        "        popup=create_accident_popup(row),\n",
        "        color=\"red\" if int(row[\"number_of_persons_killed\"]) > 0 else \"blue\",\n",
        "        fill=True,\n",
        "        fill_color=\"red\" if int(row[\"number_of_persons_killed\"]) > 0 else \"blue\",\n",
        "        fill_opacity=0.7,\n",
        "    ).add_to(accidents_group)\n",
        "\n",
        "# Add a circle for each ambulance station to the ambulance stations feature group\n",
        "for index, row in ambulance_stations_df.iterrows():\n",
        "    folium.CircleMarker(\n",
        "        location=[row[\"latitude\"], row[\"longitude\"]],\n",
        "        radius=6,\n",
        "        popup=create_ambulance_station_popup(row),\n",
        "        color=\"green\",\n",
        "        fill=True,\n",
        "        fill_color=\"green\",\n",
        "        fill_opacity=0.7,\n",
        "    ).add_to(ambulance_stations_group)\n",
        "\n",
        "# Add a circle for each hospital to the hospitals feature group\n",
        "for index, row in hospitals_df.iterrows():\n",
        "    folium.CircleMarker(\n",
        "        location=[row[\"latitude\"], row[\"longitude\"]],\n",
        "        radius=10,\n",
        "        popup=create_hospital_popup(row),\n",
        "        color=\"purple\",\n",
        "        fill=True,\n",
        "        fill_color=\"purple\",\n",
        "        fill_opacity=0.7,\n",
        "    ).add_to(hospitals_group)\n",
        "\n",
        "# Add the feature groups to the map\n",
        "accidents_group.add_to(nyc_map)\n",
        "ambulance_stations_group.add_to(nyc_map)\n",
        "hospitals_group.add_to(nyc_map)\n",
        "\n",
        "# Add a layer control to the map\n",
        "folium.LayerControl().add_to(nyc_map)\n",
        "\n",
        "\n"
      ]
    },
    {
      "cell_type": "code",
      "execution_count": null,
      "metadata": {
        "id": "jbRcgXmZQvUg"
      },
      "outputs": [],
      "source": [
        "# Display the map\n",
        "nyc_map"
      ]
    },
    {
      "cell_type": "code",
      "execution_count": null,
      "metadata": {
        "id": "y5M3ZyH-asq-"
      },
      "outputs": [],
      "source": [
        "import math\n",
        "\n",
        "def haversine(lat1, lon1, lat2, lon2):\n",
        "    # Convert latitudes and longitudes from degrees to radians\n",
        "    lat1, lon1, lat2, lon2 = map(math.radians, [lat1, lon1, lat2, lon2])\n",
        "\n",
        "    # Haversine formula \n",
        "    dlat = lat2 - lat1\n",
        "    dlon = lon2 - lon1\n",
        "    a = math.sin(dlat / 2) ** 2 + math.cos(lat1) * math.cos(lat2) * math.sin(dlon / 2) ** 2\n",
        "    c = 2 * math.asin(math.sqrt(a))\n",
        "\n",
        "    # Earth's radius in kilometers (mean radius = 6,371 km)\n",
        "    radius = 6371\n",
        "\n",
        "    # Calculate the distance\n",
        "    distance = c * radius\n",
        "\n",
        "    return distance\n"
      ]
    },
    {
      "cell_type": "code",
      "execution_count": null,
      "metadata": {
        "id": "1alNdhgLeyo_"
      },
      "outputs": [],
      "source": [
        "combined_facilities_df = pd.concat([ambulance_stations_df, hospitals_df], ignore_index=True)"
      ]
    },
    {
      "cell_type": "code",
      "execution_count": null,
      "metadata": {
        "id": "dC1Wjc87eyo_"
      },
      "outputs": [],
      "source": [
        "df[\"closest_facility\"] = np.nan\n",
        "df[\"closest_facility_distance\"] = np.nan"
      ]
    },
    {
      "cell_type": "code",
      "execution_count": null,
      "metadata": {
        "id": "lnOYAxvVeypA"
      },
      "outputs": [],
      "source": [
        "for index, row in df.iterrows():\n",
        "    min_distance = 1000000\n",
        "    closest_facility = None\n",
        "    for facility_index, facility_row in combined_facilities_df.iterrows():\n",
        "        distance = haversine(row[\"latitude\"], row[\"longitude\"], facility_row[\"latitude\"], facility_row[\"longitude\"])\n",
        "        if distance < min_distance:\n",
        "            min_distance = distance\n",
        "            closest_facility = facility_row[\"facname\"]\n",
        "    df.loc[index, \"closest_facility\"] = closest_facility\n",
        "    df.loc[index, \"distance_to_closest_facility\"] = min_distance"
      ]
    },
    {
      "cell_type": "code",
      "execution_count": null,
      "metadata": {
        "id": "HN-pBtNCeypB"
      },
      "outputs": [],
      "source": [
        "important_columns = [\"crash_date\",\"crash_time\",\"borough\",\"closest_facility\",\"distance_to_closest_facility\",\"number_of_persons_injured\",\"number_of_persons_killed\",\"latitude\",\"longitude\"]"
      ]
    },
    {
      "cell_type": "code",
      "execution_count": null,
      "metadata": {
        "id": "2lkkRADTeypC"
      },
      "outputs": [],
      "source": [
        "df[important_columns]"
      ]
    },
    {
      "cell_type": "code",
      "execution_count": null,
      "metadata": {
        "id": "3tR-gl_FeypD"
      },
      "outputs": [],
      "source": [
        "def display_config(df, facilities_df, new_facility_latitude=None, new_facility_longitude=None):\n",
        "    nyc_map = folium.Map(location=[40.7831, -73.9712], zoom_start=12)\n",
        "\n",
        "\n",
        "    accidents_group = folium.FeatureGroup(name=\"Accidents\")\n",
        "    facilities_group = folium.FeatureGroup(name=\"Hospitals\")\n",
        "    new_facility_group = folium.FeatureGroup(name=\"New Hospital\")\n",
        "\n",
        "    # Get unique hospital names\n",
        "    unique_hospitals = df[\"closest_facility\"].unique()\n",
        "\n",
        "    # Get a list of colors (use the seaborn library for generating colors)\n",
        "    colors = sns.color_palette(\"hls\", len(unique_hospitals))\n",
        "    hex_colors = colors.as_hex()\n",
        "\n",
        "    # Create a dictionary mapping hospital names to colors\n",
        "    facility_colors = dict(zip(unique_hospitals, hex_colors))\n",
        "\n",
        "    # Add a circle for each ambulance station to the ambulance stations feature group\n",
        "    for index, row in facilities_df.iterrows():\n",
        "        folium.Marker(\n",
        "            location=[row[\"latitude\"], row[\"longitude\"]],\n",
        "            radius=20,\n",
        "            popup=create_ambulance_station_popup(row),\n",
        "            icon=folium.Icon(color=\"green\"),\n",
        "        ).add_to(facilities_group)\n",
        "\n",
        "     # Iterate through the DataFrame rows and add a circle for each row\n",
        "    for _, row in df.iterrows():\n",
        "        lat, lon = row[\"latitude\"], row[\"longitude\"]\n",
        "        facility = row[\"closest_facility\"]\n",
        "        color = facility_colors[facility]\n",
        "\n",
        "        folium.Circle(\n",
        "            location=[lat, lon],\n",
        "            radius=40,  # Set the circle size (in meters)\n",
        "            popup=facility,\n",
        "            color=color,\n",
        "            fill=True,\n",
        "            fill_color=color,\n",
        "            fill_opacity=1\n",
        "        ).add_to(nyc_map)\n",
        "\n",
        "    # Add a circle for the new facility\n",
        "    if new_facility_latitude and new_facility_longitude:\n",
        "        folium.Marker(\n",
        "            location=[new_facility_latitude, new_facility_longitude],\n",
        "            radius=15,\n",
        "            popup=\"NEW HOSPITAL\",\n",
        "            icon=folium.Icon(color=\"red\"),\n",
        "        ).add_to(new_facility_group)\n",
        "\n",
        "    # Add the feature groups to the map\n",
        "    accidents_group.add_to(nyc_map)\n",
        "    facilities_group.add_to(nyc_map)\n",
        "    new_facility_group.add_to(nyc_map)\n",
        "\n",
        "    # Add a layer control to the map\n",
        "    folium.LayerControl().add_to(nyc_map)\n",
        "    \n",
        "    return nyc_map"
      ]
    },
    {
      "cell_type": "code",
      "execution_count": null,
      "metadata": {
        "id": "igj8qVTTeypE"
      },
      "outputs": [],
      "source": [
        "\n",
        "\n",
        "def reassign_closest_facility(df, new_lat, new_lon):\n",
        "    df_ = df.copy()\n",
        "    for index,row in df_.iterrows():\n",
        "        new_distance = haversine(row[\"latitude\"], row[\"longitude\"], new_lat, new_lon)\n",
        "        old_distance = row['distance_to_closest_facility']\n",
        "        if new_distance < old_distance:\n",
        "            df_.loc[index,'distance_to_closest_facility'] = new_distance\n",
        "            df_.loc[index,'closest_facility']='NEW'\n",
        "    return df_\n",
        "\n",
        "    "
      ]
    },
    {
      "cell_type": "code",
      "execution_count": null,
      "metadata": {
        "id": "H-41FYmLeypF"
      },
      "outputs": [],
      "source": [
        "display_config(df,combined_facilities_df)"
      ]
    },
    {
      "cell_type": "code",
      "execution_count": null,
      "metadata": {
        "id": "67EK4LX5eypG"
      },
      "outputs": [],
      "source": [
        "# new_lat,new_lon = combined_facilities_df[['latitude','longitude']].iloc[0]\n",
        "new_lat,new_lon = 40.7831, -73.9712\n",
        "new_config = reassign_closest_facility(df,new_lat,new_lon)"
      ]
    },
    {
      "cell_type": "code",
      "execution_count": null,
      "metadata": {
        "id": "dZcXGIXueypI"
      },
      "outputs": [],
      "source": [
        "display_config(new_config,combined_facilities_df,new_lat,new_lon)"
      ]
    },
    {
      "cell_type": "code",
      "execution_count": null,
      "metadata": {
        "id": "_neZrr3_eypJ"
      },
      "outputs": [],
      "source": [
        "\n",
        "def get_points_x_meters_away(latitude, longitude, distance_meters):\n",
        "    meters_per_degree_latitude = 111111\n",
        "    meters_per_degree_longitude = meters_per_degree_latitude * math.cos(math.radians(latitude))\n",
        "\n",
        "    lat_change = distance_meters / meters_per_degree_latitude\n",
        "    lon_change = distance_meters / meters_per_degree_longitude\n",
        "\n",
        "    north = (latitude + lat_change, longitude)\n",
        "    south = (latitude - lat_change, longitude)\n",
        "    east = (latitude, longitude + lon_change)\n",
        "    west = (latitude, longitude - lon_change)\n",
        "\n",
        "    return north, south, east, west"
      ]
    },
    {
      "cell_type": "code",
      "execution_count": null,
      "metadata": {
        "id": "m5X8fVkZeypK"
      },
      "outputs": [],
      "source": [
        "def best_new_facility(df, combined_facilities_df):\n",
        "    best_cost=1e10\n",
        "    best_lat,best_lon = None,None\n",
        "    for i in range(len(combined_facilities_df)):\n",
        "        current_lat,current_lon = combined_facilities_df[['latitude','longitude']].iloc[i]\n",
        "        cost, s = add_new_facility(df, current_lat,current_lon)\n",
        "        print(\"Cost for\",s,\"is\",cost)\n",
        "        if cost < best_cost:\n",
        "            best_cost = cost\n",
        "            best_lat,best_lon = s\n",
        "    print(\"BEST one is\", best_cost, best_lat,best_lon)\n",
        "    return best_lat,best_lon\n",
        "        \n",
        "\n",
        "\n",
        "def add_new_facility(df, current_lat,current_lon):\n",
        "    current_config = reassign_closest_facility(df,current_lat,current_lon)\n",
        "    current_config_cost = current_config['distance_to_closest_facility'].sum()\n",
        "    distance=1000\n",
        "\n",
        "    while True:\n",
        "        # Check cost on all 4 sides\n",
        "        print(current_lat,current_lon, current_config_cost)\n",
        "        costs = []\n",
        "        for s in get_points_x_meters_away(current_lat,current_lon,distance):\n",
        "            new_config = reassign_closest_facility(df,s[0],s[1])\n",
        "            new_config_cost = new_config['distance_to_closest_facility'].sum()\n",
        "        \n",
        "            costs.append([new_config_cost, s])\n",
        "        \n",
        "        # Get the best configuration\n",
        "        best = min(costs)\n",
        "        best_cost = best[0]\n",
        "        best_lat,best_lon = best[1]\n",
        "\n",
        "        if best_cost < current_config_cost:\n",
        "            current_config_cost = best_cost\n",
        "            current_lat,current_lon = best_lat,best_lon\n",
        "        else:\n",
        "            break\n",
        "\n",
        "    return current_config_cost, (current_lat,current_lon)\n"
      ]
    },
    {
      "cell_type": "code",
      "execution_count": null,
      "metadata": {
        "id": "i_hmqGEYeypL"
      },
      "outputs": [],
      "source": [
        "new_lat, new_lon = best_new_facility(df, combined_facilities_df)\n",
        "current_config = reassign_closest_facility(df,new_lat, new_lon)"
      ]
    },
    {
      "cell_type": "code",
      "execution_count": null,
      "metadata": {
        "id": "VpIuM7Q9eypL"
      },
      "outputs": [],
      "source": [
        "\n",
        "display_config(current_config,combined_facilities_df,new_lat, new_lon)"
      ]
    }
  ]
}